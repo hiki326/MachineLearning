{
  "nbformat": 4,
  "nbformat_minor": 0,
  "metadata": {
    "colab": {
      "name": "chainer_ex1.ipynb",
      "provenance": [],
      "include_colab_link": true
    },
    "kernelspec": {
      "name": "python3",
      "display_name": "Python 3"
    }
  },
  "cells": [
    {
      "cell_type": "markdown",
      "metadata": {
        "id": "view-in-github",
        "colab_type": "text"
      },
      "source": [
        "<a href=\"https://colab.research.google.com/github/hiki326/MachineLearning/blob/master/chainer_ex1.ipynb\" target=\"_parent\"><img src=\"https://colab.research.google.com/assets/colab-badge.svg\" alt=\"Open In Colab\"/></a>"
      ]
    },
    {
      "cell_type": "code",
      "metadata": {
        "id": "BAlp1ozoTxfq",
        "colab_type": "code",
        "colab": {}
      },
      "source": [
        ""
      ],
      "execution_count": 0,
      "outputs": []
    },
    {
      "cell_type": "markdown",
      "metadata": {
        "id": "wHNFxlxTdQoz",
        "colab_type": "text"
      },
      "source": [
        "https://japan-medical-ai.github.io/medical-ai-course-materials/notebooks/04_Introduction_to_Chainer.html"
      ]
    },
    {
      "cell_type": "markdown",
      "metadata": {
        "id": "QXBgz7OTUDVf",
        "colab_type": "text"
      },
      "source": [
        "To visualize an architecture of neural network as a graph structure."
      ]
    },
    {
      "cell_type": "code",
      "metadata": {
        "id": "GNwjXqdqUmN2",
        "colab_type": "code",
        "colab": {}
      },
      "source": [
        "!apt-get install -y graphviz"
      ],
      "execution_count": 0,
      "outputs": []
    },
    {
      "cell_type": "code",
      "metadata": {
        "id": "8u_jztI6VbjP",
        "colab_type": "code",
        "colab": {}
      },
      "source": [
        "!pip install cupy"
      ],
      "execution_count": 0,
      "outputs": []
    },
    {
      "cell_type": "code",
      "metadata": {
        "id": "q3QZDgY7Y3EE",
        "colab_type": "code",
        "colab": {}
      },
      "source": [
        "pip install 'cupy>=6.5.0,<7.0.0'"
      ],
      "execution_count": 0,
      "outputs": []
    },
    {
      "cell_type": "code",
      "metadata": {
        "id": "V-9C_UQLVJRW",
        "colab_type": "code",
        "colab": {
          "base_uri": "https://localhost:8080/",
          "height": 283
        },
        "outputId": "1428e4bf-673a-4757-e752-dccb555c021c"
      },
      "source": [
        "!python -c 'import chainer; chainer.print_runtime_info()'"
      ],
      "execution_count": 6,
      "outputs": [
        {
          "output_type": "stream",
          "text": [
            "Platform: Linux-4.14.137+-x86_64-with-Ubuntu-18.04-bionic\n",
            "Chainer: 6.5.0\n",
            "ChainerX: Not Available\n",
            "NumPy: 1.17.4\n",
            "CuPy:\n",
            "  CuPy Version          : 6.6.0\n",
            "  CUDA Root             : /usr/local/cuda\n",
            "  CUDA Build Version    : 10010\n",
            "  CUDA Driver Version   : 10020\n",
            "  CUDA Runtime Version  : CUDARuntimeError('cudaErrorNoDevice: no CUDA-capable device is detected',)\n",
            "  cuDNN Build Version   : 7605\n",
            "  cuDNN Version         : 7605\n",
            "  NCCL Build Version    : 2408\n",
            "  NCCL Runtime Version  : 2408\n",
            "iDeep: 2.0.0.post3\n"
          ],
          "name": "stdout"
        }
      ]
    }
  ]
}